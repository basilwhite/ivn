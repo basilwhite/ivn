{
  "nbformat": 4,
  "nbformat_minor": 0,
  "metadata": {
    "colab": {
      "provenance": [],
      "mount_file_id": "1LT2HbJaHZKLQ478sppgJzsXcLx1u83Wh",
      "authorship_tag": "ABX9TyNMZ24P1LRKg9W5WZWMTE1D",
      "include_colab_link": true
    },
    "kernelspec": {
      "name": "python3",
      "display_name": "Python 3"
    },
    "language_info": {
      "name": "python"
    }
  },
  "cells": [
    {
      "cell_type": "markdown",
      "metadata": {
        "id": "view-in-github",
        "colab_type": "text"
      },
      "source": [
        "<a href=\"https://colab.research.google.com/github/basilwhite/ivn/blob/main/ivn.ipynb\" target=\"_parent\"><img src=\"https://colab.research.google.com/assets/colab-badge.svg\" alt=\"Open In Colab\"/></a>"
      ]
    },
    {
      "cell_type": "code",
      "execution_count": null,
      "metadata": {
        "colab": {
          "base_uri": "https://localhost:8080/"
        },
        "id": "ezJxJLEZfScI",
        "outputId": "1b39ee5d-4b70-49e8-cad4-d1cfec493e15"
      },
      "outputs": [
        {
          "output_type": "stream",
          "name": "stdout",
          "text": [
            "Requirement already satisfied: pandas in /usr/local/lib/python3.10/dist-packages (2.1.4)\n",
            "Requirement already satisfied: mlxtend in /usr/local/lib/python3.10/dist-packages (0.23.1)\n",
            "Requirement already satisfied: openpyxl in /usr/local/lib/python3.10/dist-packages (3.1.5)\n",
            "Requirement already satisfied: numpy<2,>=1.22.4 in /usr/local/lib/python3.10/dist-packages (from pandas) (1.26.4)\n",
            "Requirement already satisfied: python-dateutil>=2.8.2 in /usr/local/lib/python3.10/dist-packages (from pandas) (2.8.2)\n",
            "Requirement already satisfied: pytz>=2020.1 in /usr/local/lib/python3.10/dist-packages (from pandas) (2024.1)\n",
            "Requirement already satisfied: tzdata>=2022.1 in /usr/local/lib/python3.10/dist-packages (from pandas) (2024.1)\n",
            "Requirement already satisfied: scipy>=1.2.1 in /usr/local/lib/python3.10/dist-packages (from mlxtend) (1.13.1)\n",
            "Requirement already satisfied: scikit-learn>=1.0.2 in /usr/local/lib/python3.10/dist-packages (from mlxtend) (1.3.2)\n",
            "Requirement already satisfied: matplotlib>=3.0.0 in /usr/local/lib/python3.10/dist-packages (from mlxtend) (3.7.1)\n",
            "Requirement already satisfied: joblib>=0.13.2 in /usr/local/lib/python3.10/dist-packages (from mlxtend) (1.4.2)\n",
            "Requirement already satisfied: et-xmlfile in /usr/local/lib/python3.10/dist-packages (from openpyxl) (1.1.0)\n",
            "Requirement already satisfied: contourpy>=1.0.1 in /usr/local/lib/python3.10/dist-packages (from matplotlib>=3.0.0->mlxtend) (1.3.0)\n",
            "Requirement already satisfied: cycler>=0.10 in /usr/local/lib/python3.10/dist-packages (from matplotlib>=3.0.0->mlxtend) (0.12.1)\n",
            "Requirement already satisfied: fonttools>=4.22.0 in /usr/local/lib/python3.10/dist-packages (from matplotlib>=3.0.0->mlxtend) (4.53.1)\n",
            "Requirement already satisfied: kiwisolver>=1.0.1 in /usr/local/lib/python3.10/dist-packages (from matplotlib>=3.0.0->mlxtend) (1.4.5)\n",
            "Requirement already satisfied: packaging>=20.0 in /usr/local/lib/python3.10/dist-packages (from matplotlib>=3.0.0->mlxtend) (24.1)\n",
            "Requirement already satisfied: pillow>=6.2.0 in /usr/local/lib/python3.10/dist-packages (from matplotlib>=3.0.0->mlxtend) (9.4.0)\n",
            "Requirement already satisfied: pyparsing>=2.3.1 in /usr/local/lib/python3.10/dist-packages (from matplotlib>=3.0.0->mlxtend) (3.1.4)\n",
            "Requirement already satisfied: six>=1.5 in /usr/local/lib/python3.10/dist-packages (from python-dateutil>=2.8.2->pandas) (1.16.0)\n",
            "Requirement already satisfied: threadpoolctl>=2.0.0 in /usr/local/lib/python3.10/dist-packages (from scikit-learn>=1.0.2->mlxtend) (3.5.0)\n"
          ]
        }
      ],
      "source": [
        "\n",
        "!pip install pandas mlxtend openpyxl"
      ]
    },
    {
      "cell_type": "code",
      "source": [
        "import pandas as pd\n",
        "\n",
        "# Load the Excel file from the URL\n",
        "url = \"https://basilwhite.com/ivn/IntegratedValueNetwork.xlsx\"\n",
        "data = pd.read_excel(url)\n",
        "\n",
        "# Display the first few rows of the dataframe\n",
        "print(\"Data Preview:\")\n",
        "print(data.head())"
      ],
      "metadata": {
        "colab": {
          "base_uri": "https://localhost:8080/"
        },
        "id": "o2N1_yldju3A",
        "outputId": "998e1ec6-606b-47ec-c192-1c3f114e8760"
      },
      "execution_count": null,
      "outputs": [
        {
          "output_type": "stream",
          "name": "stdout",
          "text": [
            "Data Preview:\n",
            "                                    Enabling Source  \\\n",
            "0  Biden-Harris Administration Immediate Priorities   \n",
            "1                       VA Business Reference Model   \n",
            "2                       VA Business Reference Model   \n",
            "3                       VA Business Reference Model   \n",
            "4                       VA Business Reference Model   \n",
            "\n",
            "                                  Enabling Component  \\\n",
            "0                                        Health Care   \n",
            "1  1.3.3.1.9 Perform Compensation and Pension Med...   \n",
            "2      1.3.4 Provide Health Related Services (HC121)   \n",
            "3      1.3.4 Provide Health Related Services (HC121)   \n",
            "4      1.3.4 Provide Health Related Services (HC121)   \n",
            "\n",
            "                      Enabling Component Description  \\\n",
            "0  President Biden will make a renewed commitment...   \n",
            "1  Perform Compensation and Pension Medical Exami...   \n",
            "2  Provide Health Related Services are services V...   \n",
            "3  Provide Health Related Services are services V...   \n",
            "4  Provide Health Related Services are services V...   \n",
            "\n",
            "                                 Dependent Component  \\\n",
            "0     Electronic Health Records Modernization (EHRM)   \n",
            "1  Integrated Disability Evaluation System (IDES)...   \n",
            "2                   General Objective 4 – Telehealth   \n",
            "3  Objective 3.5.  Joint Sharing of Facilities an...   \n",
            "4  Providing Veterans World Class Health Care to ...   \n",
            "\n",
            "                     Dependent Component Description  \\\n",
            "0  Initiate the deployment of data hosting, syste...   \n",
            "1  Develop and implement a plan to address IDES p...   \n",
            "2  The JEC co-chairs, on June 10, 2020, approved ...   \n",
            "3  Objective:  Continue to develop an objective d...   \n",
            "4  The Veterans Health Administration serves upwa...   \n",
            "\n",
            "                                    Dependent Source  \\\n",
            "0                             VA Priority Initiative   \n",
            "1                     JEC Guidance Memo FY 2021-2022   \n",
            "2       JEC Joint Strategic Plan 2019-2021 (amended)   \n",
            "3       JEC Joint Strategic Plan 2019-2021 (amended)   \n",
            "4  The Biden Plan to Keep Our Sacred Obligation t...   \n",
            "\n",
            "                               Enabling Source URL  \\\n",
            "0           https://www.whitehouse.gov/priorities/   \n",
            "1  https://ba.va.gov/s/fom-brm/a64t00000004CjVAAU/   \n",
            "2  https://ba.va.gov/s/fom-brm/a64t00000004Ck9AAE/   \n",
            "3  https://ba.va.gov/s/fom-brm/a64t00000004Ck9AAE/   \n",
            "4  https://ba.va.gov/s/fom-brm/a64t00000004Ck9AAE/   \n",
            "\n",
            "                                Dependent Source URL  \n",
            "0                  https://www.va.gov/modernization/  \n",
            "1  https://www.va.gov/oei/about/policy-integratio...  \n",
            "2  https://prhome.defense.gov/ForceResiliency/DoDVA/  \n",
            "3  https://prhome.defense.gov/ForceResiliency/DoDVA/  \n",
            "4                     https://joebiden.com/veterans/  \n"
          ]
        },
        {
          "output_type": "stream",
          "name": "stderr",
          "text": [
            "/usr/local/lib/python3.10/dist-packages/openpyxl/reader/workbook.py:118: UserWarning: Print area cannot be set to Defined name: 'Integrated Value Model '!$A:$H.\n",
            "  warn(f\"Print area cannot be set to Defined name: {defn.value}.\")\n"
          ]
        }
      ]
    },
    {
      "cell_type": "code",
      "source": [
        "from mlxtend.frequent_patterns import apriori, association_rules\n",
        "\n",
        "# Prepare the data for association rule learning\n",
        "# Assuming the Excel file has columns 'Enabling Component' and 'Dependent Component'\n",
        "basket = data.groupby(['Enabling Component', 'Dependent Component']).size().unstack().fillna(0)\n",
        "basket = basket.applymap(lambda x: 1 if x > 0 else 0)\n",
        "\n",
        "# Apply the Apriori algorithm to find frequent itemsets\n",
        "frequent_itemsets = apriori(basket, min_support=0.1, use_colnames=True)\n",
        "\n",
        "# Generate the association rules\n",
        "rules = association_rules(frequent_itemsets, metric=\"lift\", min_threshold=1)\n",
        "\n",
        "# Display the rules\n",
        "print(\"Association Rules:\")\n",
        "print(rules[['antecedents', 'consequents', 'support', 'confidence', 'lift']])"
      ],
      "metadata": {
        "colab": {
          "base_uri": "https://localhost:8080/",
          "height": 647
        },
        "id": "lxJSuEl-j5E9",
        "outputId": "fd268fdd-9dec-46e3-d75e-b8725c4028ce"
      },
      "execution_count": null,
      "outputs": [
        {
          "output_type": "stream",
          "name": "stderr",
          "text": [
            "<ipython-input-7-e0c2c268edac>:6: FutureWarning: DataFrame.applymap has been deprecated. Use DataFrame.map instead.\n",
            "  basket = basket.applymap(lambda x: 1 if x > 0 else 0)\n",
            "/usr/local/lib/python3.10/dist-packages/mlxtend/frequent_patterns/fpcommon.py:109: DeprecationWarning: DataFrames with non-bool types result in worse computationalperformance and their support might be discontinued in the future.Please use a DataFrame with bool type\n",
            "  warnings.warn(\n"
          ]
        },
        {
          "output_type": "error",
          "ename": "ValueError",
          "evalue": "The input DataFrame `df` containing the frequent itemsets is empty.",
          "traceback": [
            "\u001b[0;31m---------------------------------------------------------------------------\u001b[0m",
            "\u001b[0;31mValueError\u001b[0m                                Traceback (most recent call last)",
            "\u001b[0;32m<ipython-input-7-e0c2c268edac>\u001b[0m in \u001b[0;36m<cell line: 12>\u001b[0;34m()\u001b[0m\n\u001b[1;32m     10\u001b[0m \u001b[0;34m\u001b[0m\u001b[0m\n\u001b[1;32m     11\u001b[0m \u001b[0;31m# Generate the association rules\u001b[0m\u001b[0;34m\u001b[0m\u001b[0;34m\u001b[0m\u001b[0m\n\u001b[0;32m---> 12\u001b[0;31m \u001b[0mrules\u001b[0m \u001b[0;34m=\u001b[0m \u001b[0massociation_rules\u001b[0m\u001b[0;34m(\u001b[0m\u001b[0mfrequent_itemsets\u001b[0m\u001b[0;34m,\u001b[0m \u001b[0mmetric\u001b[0m\u001b[0;34m=\u001b[0m\u001b[0;34m\"lift\"\u001b[0m\u001b[0;34m,\u001b[0m \u001b[0mmin_threshold\u001b[0m\u001b[0;34m=\u001b[0m\u001b[0;36m1\u001b[0m\u001b[0;34m)\u001b[0m\u001b[0;34m\u001b[0m\u001b[0;34m\u001b[0m\u001b[0m\n\u001b[0m\u001b[1;32m     13\u001b[0m \u001b[0;34m\u001b[0m\u001b[0m\n\u001b[1;32m     14\u001b[0m \u001b[0;31m# Display the rules\u001b[0m\u001b[0;34m\u001b[0m\u001b[0;34m\u001b[0m\u001b[0m\n",
            "\u001b[0;32m/usr/local/lib/python3.10/dist-packages/mlxtend/frequent_patterns/association_rules.py\u001b[0m in \u001b[0;36massociation_rules\u001b[0;34m(df, metric, min_threshold, support_only)\u001b[0m\n\u001b[1;32m     81\u001b[0m     \"\"\"\n\u001b[1;32m     82\u001b[0m     \u001b[0;32mif\u001b[0m \u001b[0;32mnot\u001b[0m \u001b[0mdf\u001b[0m\u001b[0;34m.\u001b[0m\u001b[0mshape\u001b[0m\u001b[0;34m[\u001b[0m\u001b[0;36m0\u001b[0m\u001b[0;34m]\u001b[0m\u001b[0;34m:\u001b[0m\u001b[0;34m\u001b[0m\u001b[0;34m\u001b[0m\u001b[0m\n\u001b[0;32m---> 83\u001b[0;31m         raise ValueError(\n\u001b[0m\u001b[1;32m     84\u001b[0m             \u001b[0;34m\"The input DataFrame `df` containing \"\u001b[0m \u001b[0;34m\"the frequent itemsets is empty.\"\u001b[0m\u001b[0;34m\u001b[0m\u001b[0;34m\u001b[0m\u001b[0m\n\u001b[1;32m     85\u001b[0m         )\n",
            "\u001b[0;31mValueError\u001b[0m: The input DataFrame `df` containing the frequent itemsets is empty."
          ]
        }
      ]
    },
    {
      "cell_type": "code",
      "source": [
        "from mlxtend.frequent_patterns import apriori, association_rules\n",
        "\n",
        "# Prepare the data for association rule learning\n",
        "# Assuming the Excel file has columns 'Enabling Component' and 'Dependent Component'\n",
        "basket = data.groupby(['Enabling Component', 'Dependent Component']).size().unstack().fillna(0)\n",
        "basket = basket.map(lambda x: x > 0)\n",
        "\n",
        "# Apply the Apriori algorithm to find frequent itemsets\n",
        "frequent_itemsets = apriori(basket, min_support=0.1, use_colnames=True)\n",
        "\n",
        "# Generate the association rules\n",
        "rules = association_rules(frequent_itemsets, metric=\"lift\", min_threshold=1)\n",
        "\n",
        "# Display the rules\n",
        "print(\"Association Rules:\")\n",
        "print(rules[['ante"
      ],
      "metadata": {
        "colab": {
          "base_uri": "https://localhost:8080/",
          "height": 196
        },
        "id": "C7B4OipokKTq",
        "outputId": "07e41745-af50-43f2-e9e7-7d0ba398d659"
      },
      "execution_count": null,
      "outputs": [
        {
          "output_type": "stream",
          "name": "stderr",
          "text": [
            "/usr/local/lib/python3.10/dist-packages/ipykernel/ipkernel.py:283: DeprecationWarning: `should_run_async` will not call `transform_cell` automatically in the future. Please pass the result to `transformed_cell` argument and any exception that happen during thetransform in `preprocessing_exc_tuple` in IPython 7.17 and above.\n",
            "  and should_run_async(code)\n"
          ]
        },
        {
          "output_type": "error",
          "ename": "SyntaxError",
          "evalue": "unterminated string literal (detected at line 16) (<ipython-input-8-055ad8492204>, line 16)",
          "traceback": [
            "\u001b[0;36m  File \u001b[0;32m\"<ipython-input-8-055ad8492204>\"\u001b[0;36m, line \u001b[0;32m16\u001b[0m\n\u001b[0;31m    print(rules[['ante\u001b[0m\n\u001b[0m                 ^\u001b[0m\n\u001b[0;31mSyntaxError\u001b[0m\u001b[0;31m:\u001b[0m unterminated string literal (detected at line 16)\n"
          ]
        }
      ]
    },
    {
      "cell_type": "code",
      "source": [
        "from mlxtend.frequent_patterns import apriori, association_rules\n",
        "\n",
        "# Prepare the data for association rule learning\n",
        "# Assuming the Excel file has columns 'Enabling Component' and 'Dependent Component'\n",
        "basket = data.groupby(['Enabling Component', 'Dependent Component']).size().unstack().fillna(0)\n",
        "basket = basket.map(lambda x: x > 0)\n",
        "\n",
        "# Apply the Apriori algorithm to find frequent itemsets\n",
        "frequent_itemsets = apriori(basket, min_support=0.1, use_colnames=True)\n",
        "\n",
        "# Generate the association rules\n",
        "rules = association_rules(frequent_itemsets, metric=\"lift\", min_threshold=1)\n",
        "\n",
        "# Display the rules\n",
        "print(\"Association Rules:\")\n",
        "print(rules[['antecedents', 'consequents', 'support', 'confidence', 'lift']])"
      ],
      "metadata": {
        "colab": {
          "base_uri": "https://localhost:8080/",
          "height": 612
        },
        "id": "qodaVl9zkcmL",
        "outputId": "15b00530-30a1-4dec-e840-bb00226d562e"
      },
      "execution_count": null,
      "outputs": [
        {
          "output_type": "stream",
          "name": "stderr",
          "text": [
            "/usr/local/lib/python3.10/dist-packages/ipykernel/ipkernel.py:283: DeprecationWarning: `should_run_async` will not call `transform_cell` automatically in the future. Please pass the result to `transformed_cell` argument and any exception that happen during thetransform in `preprocessing_exc_tuple` in IPython 7.17 and above.\n",
            "  and should_run_async(code)\n"
          ]
        },
        {
          "output_type": "error",
          "ename": "ValueError",
          "evalue": "The input DataFrame `df` containing the frequent itemsets is empty.",
          "traceback": [
            "\u001b[0;31m---------------------------------------------------------------------------\u001b[0m",
            "\u001b[0;31mValueError\u001b[0m                                Traceback (most recent call last)",
            "\u001b[0;32m<ipython-input-9-f8ef6b1ca615>\u001b[0m in \u001b[0;36m<cell line: 12>\u001b[0;34m()\u001b[0m\n\u001b[1;32m     10\u001b[0m \u001b[0;34m\u001b[0m\u001b[0m\n\u001b[1;32m     11\u001b[0m \u001b[0;31m# Generate the association rules\u001b[0m\u001b[0;34m\u001b[0m\u001b[0;34m\u001b[0m\u001b[0m\n\u001b[0;32m---> 12\u001b[0;31m \u001b[0mrules\u001b[0m \u001b[0;34m=\u001b[0m \u001b[0massociation_rules\u001b[0m\u001b[0;34m(\u001b[0m\u001b[0mfrequent_itemsets\u001b[0m\u001b[0;34m,\u001b[0m \u001b[0mmetric\u001b[0m\u001b[0;34m=\u001b[0m\u001b[0;34m\"lift\"\u001b[0m\u001b[0;34m,\u001b[0m \u001b[0mmin_threshold\u001b[0m\u001b[0;34m=\u001b[0m\u001b[0;36m1\u001b[0m\u001b[0;34m)\u001b[0m\u001b[0;34m\u001b[0m\u001b[0;34m\u001b[0m\u001b[0m\n\u001b[0m\u001b[1;32m     13\u001b[0m \u001b[0;34m\u001b[0m\u001b[0m\n\u001b[1;32m     14\u001b[0m \u001b[0;31m# Display the rules\u001b[0m\u001b[0;34m\u001b[0m\u001b[0;34m\u001b[0m\u001b[0m\n",
            "\u001b[0;32m/usr/local/lib/python3.10/dist-packages/mlxtend/frequent_patterns/association_rules.py\u001b[0m in \u001b[0;36massociation_rules\u001b[0;34m(df, metric, min_threshold, support_only)\u001b[0m\n\u001b[1;32m     81\u001b[0m     \"\"\"\n\u001b[1;32m     82\u001b[0m     \u001b[0;32mif\u001b[0m \u001b[0;32mnot\u001b[0m \u001b[0mdf\u001b[0m\u001b[0;34m.\u001b[0m\u001b[0mshape\u001b[0m\u001b[0;34m[\u001b[0m\u001b[0;36m0\u001b[0m\u001b[0;34m]\u001b[0m\u001b[0;34m:\u001b[0m\u001b[0;34m\u001b[0m\u001b[0;34m\u001b[0m\u001b[0m\n\u001b[0;32m---> 83\u001b[0;31m         raise ValueError(\n\u001b[0m\u001b[1;32m     84\u001b[0m             \u001b[0;34m\"The input DataFrame `df` containing \"\u001b[0m \u001b[0;34m\"the frequent itemsets is empty.\"\u001b[0m\u001b[0;34m\u001b[0m\u001b[0;34m\u001b[0m\u001b[0m\n\u001b[1;32m     85\u001b[0m         )\n",
            "\u001b[0;31mValueError\u001b[0m: The input DataFrame `df` containing the frequent itemsets is empty."
          ]
        }
      ]
    },
    {
      "cell_type": "code",
      "source": [
        "from mlxtend.frequent_patterns import apriori, association_rules\n",
        "\n",
        "# Prepare the data for association rule learning\n",
        "# Assuming the Excel file has columns 'Enabling Component' and 'Dependent Component'\n",
        "basket = data.groupby(['Enabling Component', 'Dependent Component']).size().unstack().fillna(0)\n",
        "basket = basket.map(lambda x: x > 0)\n",
        "\n",
        "# Apply the Apriori algorithm to find frequent itemsets with a lower minimum support\n",
        "frequent_itemsets = apriori(basket, min_support=0.01, use_colnames=True)\n",
        "\n",
        "# Generate the association rules\n",
        "rules = association_rules(frequent_itemsets, metric=\"lift\", min_threshold=1)\n",
        "\n",
        "# Display the rules\n",
        "print(\"Association Rules:\")\n",
        "print(rules[['antecedents', 'consequents', 'support', 'confidence', 'lift']])"
      ],
      "metadata": {
        "id": "d5jB1b9akujr",
        "outputId": "f18116a3-a310-452e-c632-00fc26954bdf",
        "colab": {
          "base_uri": "https://localhost:8080/"
        }
      },
      "execution_count": null,
      "outputs": [
        {
          "output_type": "stream",
          "name": "stderr",
          "text": [
            "/usr/local/lib/python3.10/dist-packages/ipykernel/ipkernel.py:283: DeprecationWarning: `should_run_async` will not call `transform_cell` automatically in the future. Please pass the result to `transformed_cell` argument and any exception that happen during thetransform in `preprocessing_exc_tuple` in IPython 7.17 and above.\n",
            "  and should_run_async(code)\n"
          ]
        },
        {
          "output_type": "stream",
          "name": "stdout",
          "text": [
            "Association Rules:\n",
            "                                          antecedents  \\\n",
            "0                 (Records maintained on individuals)   \n",
            "1       (ADMINISTRATION AND MISCELLANEOUS PROVISIONS)   \n",
            "2        (Confidentiality of certain medical records)   \n",
            "3                     (Confidential nature of claims)   \n",
            "4                     (Confidential nature of claims)   \n",
            "5   (Confidentiality of medical quality-assurance ...   \n",
            "6                 (Records maintained on individuals)   \n",
            "7                     (Confidential nature of claims)   \n",
            "8        (Confidentiality of certain medical records)   \n",
            "9   (Confidentiality of medical quality-assurance ...   \n",
            "10                (Records maintained on individuals)   \n",
            "11       (Confidentiality of certain medical records)   \n",
            "12                       (FEDERAL INFORMATION POLICY)   \n",
            "13     (OIT-005 Office of Information and Technology)   \n",
            "14  (Improve VA Scheduling System, Supply Chain, &...   \n",
            "15                        (Rebuild VA Infrastructure)   \n",
            "16                (Records maintained on individuals)   \n",
            "17  (Public information; agency rules, opinions, o...   \n",
            "18  (Confidentiality of certain medical records, C...   \n",
            "19  (Confidentiality of certain medical records, C...   \n",
            "20  (Confidential nature of claims, Confidentialit...   \n",
            "21       (Confidentiality of certain medical records)   \n",
            "22                    (Confidential nature of claims)   \n",
            "23  (Confidentiality of medical quality-assurance ...   \n",
            "24  (Records maintained on individuals, Confidenti...   \n",
            "25  (Records maintained on individuals, Confidenti...   \n",
            "26  (Confidentiality of certain medical records, C...   \n",
            "27                (Records maintained on individuals)   \n",
            "28       (Confidentiality of certain medical records)   \n",
            "29                    (Confidential nature of claims)   \n",
            "\n",
            "                                          consequents   support  confidence  \\\n",
            "0       (ADMINISTRATION AND MISCELLANEOUS PROVISIONS)  0.012727    0.466667   \n",
            "1                 (Records maintained on individuals)  0.012727    1.000000   \n",
            "2                     (Confidential nature of claims)  0.016364    1.000000   \n",
            "3        (Confidentiality of certain medical records)  0.016364    1.000000   \n",
            "4   (Confidentiality of medical quality-assurance ...  0.012727    0.777778   \n",
            "5                     (Confidential nature of claims)  0.012727    0.875000   \n",
            "6                     (Confidential nature of claims)  0.012727    0.466667   \n",
            "7                 (Records maintained on individuals)  0.012727    0.777778   \n",
            "8   (Confidentiality of medical quality-assurance ...  0.012727    0.777778   \n",
            "9        (Confidentiality of certain medical records)  0.012727    0.875000   \n",
            "10       (Confidentiality of certain medical records)  0.012727    0.466667   \n",
            "11                (Records maintained on individuals)  0.012727    0.777778   \n",
            "12     (OIT-005 Office of Information and Technology)  0.010909    0.666667   \n",
            "13                       (FEDERAL INFORMATION POLICY)  0.010909    0.500000   \n",
            "14                        (Rebuild VA Infrastructure)  0.010909    0.428571   \n",
            "15  (Improve VA Scheduling System, Supply Chain, &...  0.010909    0.272727   \n",
            "16  (Public information; agency rules, opinions, o...  0.014545    0.533333   \n",
            "17                (Records maintained on individuals)  0.014545    0.727273   \n",
            "18  (Confidentiality of medical quality-assurance ...  0.012727    0.777778   \n",
            "19                    (Confidential nature of claims)  0.012727    1.000000   \n",
            "20       (Confidentiality of certain medical records)  0.012727    1.000000   \n",
            "21  (Confidential nature of claims, Confidentialit...  0.012727    0.777778   \n",
            "22  (Confidentiality of certain medical records, C...  0.012727    0.777778   \n",
            "23  (Confidentiality of certain medical records, C...  0.012727    0.875000   \n",
            "24                    (Confidential nature of claims)  0.012727    1.000000   \n",
            "25       (Confidentiality of certain medical records)  0.012727    1.000000   \n",
            "26                (Records maintained on individuals)  0.012727    0.777778   \n",
            "27  (Confidentiality of certain medical records, C...  0.012727    0.466667   \n",
            "28  (Records maintained on individuals, Confidenti...  0.012727    0.777778   \n",
            "29  (Records maintained on individuals, Confidenti...  0.012727    0.777778   \n",
            "\n",
            "         lift  \n",
            "0   36.666667  \n",
            "1   36.666667  \n",
            "2   61.111111  \n",
            "3   61.111111  \n",
            "4   53.472222  \n",
            "5   53.472222  \n",
            "6   28.518519  \n",
            "7   28.518519  \n",
            "8   53.472222  \n",
            "9   53.472222  \n",
            "10  28.518519  \n",
            "11  28.518519  \n",
            "12  30.555556  \n",
            "13  30.555556  \n",
            "14  10.714286  \n",
            "15  10.714286  \n",
            "16  26.666667  \n",
            "17  26.666667  \n",
            "18  53.472222  \n",
            "19  61.111111  \n",
            "20  61.111111  \n",
            "21  61.111111  \n",
            "22  61.111111  \n",
            "23  53.472222  \n",
            "24  61.111111  \n",
            "25  61.111111  \n",
            "26  28.518519  \n",
            "27  28.518519  \n",
            "28  61.111111  \n",
            "29  61.111111  \n"
          ]
        }
      ]
    },
    {
      "cell_type": "code",
      "source": [
        "\n",
        "import pandas as pd\n",
        "from mlxtend.frequent_patterns import apriori, association_rules\n",
        "\n",
        "# Load the Excel file from the URL\n",
        "url = \"https://basilwhite.com/ivn/IntegratedValueNetwork.xlsx\"\n",
        "data = pd.read_excel(url)\n",
        "\n",
        "# Display the first few rows of the dataframe\n",
        "print(\"Data Preview:\")\n",
        "print(data.head())\n",
        "\n",
        "# Prepare the data for association rule learning\n",
        "# Assuming the Excel file has columns 'Enabling Component' and 'Dependent Component'\n",
        "basket = data.groupby(['Enabling Component', 'Dependent Component']).size().unstack().fillna(0)\n",
        "basket = basket.map(lambda x: x > 0)\n",
        "\n",
        "# Apply the Apriori algorithm to find frequent itemsets with a lower minimum support\n",
        "frequent_itemsets = apriori(basket, min_support=0.01, use_colnames=True)\n",
        "\n",
        "# Generate the association rules\n",
        "rules = association_rules(frequent_itemsets, metric=\"lift\", min_threshold=1)\n",
        "\n",
        "# Display the rules\n",
        "print(\"Association Rules:\")\n",
        "print(rules[['antecedents', 'consequents', 'support', 'confidence', 'lift']])\n",
        "\n",
        "# Convert antecedents and consequents to strings for merging\n",
        "rules['antecedents'] = rules['antecedents'].apply(lambda x: ', '.join(list(x)))\n",
        "rules['consequents'] = rules['consequents'].apply(lambda x: ', '.join(list(x)))\n",
        "\n",
        "# Merge the original data with the rules\n",
        "merged_data = pd.merge(data, rules, how='left', left_on=['Enabling Component', 'Dependent Component'], right_on=['antecedents', 'consequents'])\n",
        "\n",
        "# Save the combined data to a custom CSV file named 'ivn_inferences.csv'\n",
        "merged_data.to_csv('ivn_inferences.csv', index=False)\n",
        "\n",
        "# Display the saved CSV file path\n",
        "print(\"Combined data with association rules has been saved to 'ivn_inferences.csv'\")"
      ],
      "metadata": {
        "colab": {
          "base_uri": "https://localhost:8080/"
        },
        "id": "Ose9yZBopym1",
        "outputId": "d94c87fc-644f-47a7-e4c7-fe2ecabde5f1"
      },
      "execution_count": null,
      "outputs": [
        {
          "output_type": "stream",
          "name": "stderr",
          "text": [
            "/usr/local/lib/python3.10/dist-packages/ipykernel/ipkernel.py:283: DeprecationWarning: `should_run_async` will not call `transform_cell` automatically in the future. Please pass the result to `transformed_cell` argument and any exception that happen during thetransform in `preprocessing_exc_tuple` in IPython 7.17 and above.\n",
            "  and should_run_async(code)\n",
            "/usr/local/lib/python3.10/dist-packages/openpyxl/reader/workbook.py:118: UserWarning: Print area cannot be set to Defined name: 'Integrated Value Model '!$A:$H.\n",
            "  warn(f\"Print area cannot be set to Defined name: {defn.value}.\")\n"
          ]
        },
        {
          "output_type": "stream",
          "name": "stdout",
          "text": [
            "Data Preview:\n",
            "                                    Enabling Source  \\\n",
            "0  Biden-Harris Administration Immediate Priorities   \n",
            "1                       VA Business Reference Model   \n",
            "2                       VA Business Reference Model   \n",
            "3                       VA Business Reference Model   \n",
            "4                       VA Business Reference Model   \n",
            "\n",
            "                                  Enabling Component  \\\n",
            "0                                        Health Care   \n",
            "1  1.3.3.1.9 Perform Compensation and Pension Med...   \n",
            "2      1.3.4 Provide Health Related Services (HC121)   \n",
            "3      1.3.4 Provide Health Related Services (HC121)   \n",
            "4      1.3.4 Provide Health Related Services (HC121)   \n",
            "\n",
            "                      Enabling Component Description  \\\n",
            "0  President Biden will make a renewed commitment...   \n",
            "1  Perform Compensation and Pension Medical Exami...   \n",
            "2  Provide Health Related Services are services V...   \n",
            "3  Provide Health Related Services are services V...   \n",
            "4  Provide Health Related Services are services V...   \n",
            "\n",
            "                                 Dependent Component  \\\n",
            "0     Electronic Health Records Modernization (EHRM)   \n",
            "1  Integrated Disability Evaluation System (IDES)...   \n",
            "2                   General Objective 4 – Telehealth   \n",
            "3  Objective 3.5.  Joint Sharing of Facilities an...   \n",
            "4  Providing Veterans World Class Health Care to ...   \n",
            "\n",
            "                     Dependent Component Description  \\\n",
            "0  Initiate the deployment of data hosting, syste...   \n",
            "1  Develop and implement a plan to address IDES p...   \n",
            "2  The JEC co-chairs, on June 10, 2020, approved ...   \n",
            "3  Objective:  Continue to develop an objective d...   \n",
            "4  The Veterans Health Administration serves upwa...   \n",
            "\n",
            "                                    Dependent Source  \\\n",
            "0                             VA Priority Initiative   \n",
            "1                     JEC Guidance Memo FY 2021-2022   \n",
            "2       JEC Joint Strategic Plan 2019-2021 (amended)   \n",
            "3       JEC Joint Strategic Plan 2019-2021 (amended)   \n",
            "4  The Biden Plan to Keep Our Sacred Obligation t...   \n",
            "\n",
            "                               Enabling Source URL  \\\n",
            "0           https://www.whitehouse.gov/priorities/   \n",
            "1  https://ba.va.gov/s/fom-brm/a64t00000004CjVAAU/   \n",
            "2  https://ba.va.gov/s/fom-brm/a64t00000004Ck9AAE/   \n",
            "3  https://ba.va.gov/s/fom-brm/a64t00000004Ck9AAE/   \n",
            "4  https://ba.va.gov/s/fom-brm/a64t00000004Ck9AAE/   \n",
            "\n",
            "                                Dependent Source URL  \n",
            "0                  https://www.va.gov/modernization/  \n",
            "1  https://www.va.gov/oei/about/policy-integratio...  \n",
            "2  https://prhome.defense.gov/ForceResiliency/DoDVA/  \n",
            "3  https://prhome.defense.gov/ForceResiliency/DoDVA/  \n",
            "4                     https://joebiden.com/veterans/  \n",
            "Association Rules:\n",
            "                                          antecedents  \\\n",
            "0                 (Records maintained on individuals)   \n",
            "1       (ADMINISTRATION AND MISCELLANEOUS PROVISIONS)   \n",
            "2        (Confidentiality of certain medical records)   \n",
            "3                     (Confidential nature of claims)   \n",
            "4                     (Confidential nature of claims)   \n",
            "5   (Confidentiality of medical quality-assurance ...   \n",
            "6                 (Records maintained on individuals)   \n",
            "7                     (Confidential nature of claims)   \n",
            "8        (Confidentiality of certain medical records)   \n",
            "9   (Confidentiality of medical quality-assurance ...   \n",
            "10                (Records maintained on individuals)   \n",
            "11       (Confidentiality of certain medical records)   \n",
            "12                       (FEDERAL INFORMATION POLICY)   \n",
            "13     (OIT-005 Office of Information and Technology)   \n",
            "14  (Improve VA Scheduling System, Supply Chain, &...   \n",
            "15                        (Rebuild VA Infrastructure)   \n",
            "16                (Records maintained on individuals)   \n",
            "17  (Public information; agency rules, opinions, o...   \n",
            "18  (Confidentiality of certain medical records, C...   \n",
            "19  (Confidentiality of certain medical records, C...   \n",
            "20  (Confidential nature of claims, Confidentialit...   \n",
            "21       (Confidentiality of certain medical records)   \n",
            "22                    (Confidential nature of claims)   \n",
            "23  (Confidentiality of medical quality-assurance ...   \n",
            "24  (Records maintained on individuals, Confidenti...   \n",
            "25  (Records maintained on individuals, Confidenti...   \n",
            "26  (Confidentiality of certain medical records, C...   \n",
            "27                (Records maintained on individuals)   \n",
            "28       (Confidentiality of certain medical records)   \n",
            "29                    (Confidential nature of claims)   \n",
            "\n",
            "                                          consequents   support  confidence  \\\n",
            "0       (ADMINISTRATION AND MISCELLANEOUS PROVISIONS)  0.012727    0.466667   \n",
            "1                 (Records maintained on individuals)  0.012727    1.000000   \n",
            "2                     (Confidential nature of claims)  0.016364    1.000000   \n",
            "3        (Confidentiality of certain medical records)  0.016364    1.000000   \n",
            "4   (Confidentiality of medical quality-assurance ...  0.012727    0.777778   \n",
            "5                     (Confidential nature of claims)  0.012727    0.875000   \n",
            "6                     (Confidential nature of claims)  0.012727    0.466667   \n",
            "7                 (Records maintained on individuals)  0.012727    0.777778   \n",
            "8   (Confidentiality of medical quality-assurance ...  0.012727    0.777778   \n",
            "9        (Confidentiality of certain medical records)  0.012727    0.875000   \n",
            "10       (Confidentiality of certain medical records)  0.012727    0.466667   \n",
            "11                (Records maintained on individuals)  0.012727    0.777778   \n",
            "12     (OIT-005 Office of Information and Technology)  0.010909    0.666667   \n",
            "13                       (FEDERAL INFORMATION POLICY)  0.010909    0.500000   \n",
            "14                        (Rebuild VA Infrastructure)  0.010909    0.428571   \n",
            "15  (Improve VA Scheduling System, Supply Chain, &...  0.010909    0.272727   \n",
            "16  (Public information; agency rules, opinions, o...  0.014545    0.533333   \n",
            "17                (Records maintained on individuals)  0.014545    0.727273   \n",
            "18  (Confidentiality of medical quality-assurance ...  0.012727    0.777778   \n",
            "19                    (Confidential nature of claims)  0.012727    1.000000   \n",
            "20       (Confidentiality of certain medical records)  0.012727    1.000000   \n",
            "21  (Confidential nature of claims, Confidentialit...  0.012727    0.777778   \n",
            "22  (Confidentiality of certain medical records, C...  0.012727    0.777778   \n",
            "23  (Confidentiality of certain medical records, C...  0.012727    0.875000   \n",
            "24                    (Confidential nature of claims)  0.012727    1.000000   \n",
            "25       (Confidentiality of certain medical records)  0.012727    1.000000   \n",
            "26                (Records maintained on individuals)  0.012727    0.777778   \n",
            "27  (Confidentiality of certain medical records, C...  0.012727    0.466667   \n",
            "28  (Records maintained on individuals, Confidenti...  0.012727    0.777778   \n",
            "29  (Records maintained on individuals, Confidenti...  0.012727    0.777778   \n",
            "\n",
            "         lift  \n",
            "0   36.666667  \n",
            "1   36.666667  \n",
            "2   61.111111  \n",
            "3   61.111111  \n",
            "4   53.472222  \n",
            "5   53.472222  \n",
            "6   28.518519  \n",
            "7   28.518519  \n",
            "8   53.472222  \n",
            "9   53.472222  \n",
            "10  28.518519  \n",
            "11  28.518519  \n",
            "12  30.555556  \n",
            "13  30.555556  \n",
            "14  10.714286  \n",
            "15  10.714286  \n",
            "16  26.666667  \n",
            "17  26.666667  \n",
            "18  53.472222  \n",
            "19  61.111111  \n",
            "20  61.111111  \n",
            "21  61.111111  \n",
            "22  61.111111  \n",
            "23  53.472222  \n",
            "24  61.111111  \n",
            "25  61.111111  \n",
            "26  28.518519  \n",
            "27  28.518519  \n",
            "28  61.111111  \n",
            "29  61.111111  \n",
            "Combined data with association rules has been saved to 'ivn_inferences.csv'\n"
          ]
        }
      ]
    }
  ]
}